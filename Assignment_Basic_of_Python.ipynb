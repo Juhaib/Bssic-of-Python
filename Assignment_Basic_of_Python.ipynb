{
 "cells": [
  {
   "cell_type": "markdown",
   "id": "323c4569-1847-4e4f-9173-f2b8f6be4a1e",
   "metadata": {},
   "source": [
    "# Exercise_1"
   ]
  },
  {
   "cell_type": "code",
   "execution_count": null,
   "id": "e7483382-2998-4d2a-8805-f6c9ea14fdc3",
   "metadata": {},
   "outputs": [],
   "source": [
    "def is_prime(n):\n",
    "    if n <= 1:\n",
    "        return False\n",
    "    for i in range(2, int(n**0.5) + 1):\n",
    "        if n % i == 0:\n",
    "            return False\n",
    "    return True\n",
    "\n",
    "# Input a number\n",
    "number = int(input(\"Enter a number: \"))\n",
    "\n",
    "# Check if the number is prime\n",
    "if is_prime(number):\n",
    "    print(f\"{number} is a prime number.\")\n",
    "else:\n",
    "    print(f\"{number} is not a prime number.\")\n"
   ]
  },
  {
   "cell_type": "markdown",
   "id": "dd1d42fa-048a-4187-ad62-407a41f3dd7f",
   "metadata": {},
   "source": [
    "# Exercise_2"
   ]
  },
  {
   "cell_type": "code",
   "execution_count": 5,
   "id": "282a52e1-3714-4e02-9347-3a2df0096aeb",
   "metadata": {},
   "outputs": [
    {
     "name": "stdin",
     "output_type": "stream",
     "text": [
      "What is 1 * 2?  2\n"
     ]
    },
    {
     "name": "stdout",
     "output_type": "stream",
     "text": [
      "Correct! Well done.\n"
     ]
    }
   ],
   "source": [
    "import random\n",
    "\n",
    "def multiplication_quiz():\n",
    "    num1 = random.randint(1, 10)\n",
    "    num2 = random.randint(1, 10)\n",
    "\n",
    "    user_answer = int(input(f\"What is {num1} * {num2}? \"))\n",
    "\n",
    "    correct_answer = num1 * num2\n",
    "\n",
    "    if user_answer == correct_answer:\n",
    "        print(\"Correct! Well done.\")\n",
    "    else:\n",
    "        print(f\"Incorrect. The correct answer is {correct_answer}.\")\n",
    "\n",
    "# Run the quiz\n",
    "multiplication_quiz()\n"
   ]
  },
  {
   "cell_type": "markdown",
   "id": "81910ad6-b3f9-4b96-8267-359973f1a7c0",
   "metadata": {},
   "source": [
    "# Exercise_3"
   ]
  },
  {
   "cell_type": "code",
   "execution_count": 6,
   "id": "150df19e-6a80-4bfc-a712-1d9ec4e187d4",
   "metadata": {},
   "outputs": [
    {
     "name": "stdout",
     "output_type": "stream",
     "text": [
      "The square of 100 is 10000\n",
      "The square of 102 is 10404\n",
      "The square of 104 is 10816\n",
      "The square of 106 is 11236\n",
      "The square of 108 is 11664\n",
      "The square of 110 is 12100\n",
      "The square of 112 is 12544\n",
      "The square of 114 is 12996\n",
      "The square of 116 is 13456\n",
      "The square of 118 is 13924\n",
      "The square of 120 is 14400\n",
      "The square of 122 is 14884\n",
      "The square of 124 is 15376\n",
      "The square of 126 is 15876\n",
      "The square of 128 is 16384\n",
      "The square of 130 is 16900\n",
      "The square of 132 is 17424\n",
      "The square of 134 is 17956\n",
      "The square of 136 is 18496\n",
      "The square of 138 is 19044\n",
      "The square of 140 is 19600\n",
      "The square of 142 is 20164\n",
      "The square of 144 is 20736\n",
      "The square of 146 is 21316\n",
      "The square of 148 is 21904\n",
      "The square of 150 is 22500\n",
      "The square of 152 is 23104\n",
      "The square of 154 is 23716\n",
      "The square of 156 is 24336\n",
      "The square of 158 is 24964\n",
      "The square of 160 is 25600\n",
      "The square of 162 is 26244\n",
      "The square of 164 is 26896\n",
      "The square of 166 is 27556\n",
      "The square of 168 is 28224\n",
      "The square of 170 is 28900\n",
      "The square of 172 is 29584\n",
      "The square of 174 is 30276\n",
      "The square of 176 is 30976\n",
      "The square of 178 is 31684\n",
      "The square of 180 is 32400\n",
      "The square of 182 is 33124\n",
      "The square of 184 is 33856\n",
      "The square of 186 is 34596\n",
      "The square of 188 is 35344\n",
      "The square of 190 is 36100\n",
      "The square of 192 is 36864\n",
      "The square of 194 is 37636\n",
      "The square of 196 is 38416\n",
      "The square of 198 is 39204\n",
      "The square of 200 is 40000\n"
     ]
    }
   ],
   "source": [
    "def print_squares_of_even_numbers():\n",
    "    for num in range(100, 201):\n",
    "        if num % 2 == 0:\n",
    "            print(f\"The square of {num} is {num**2}\")\n",
    "\n",
    "# Call the function\n",
    "print_squares_of_even_numbers()\n"
   ]
  },
  {
   "cell_type": "markdown",
   "id": "e5e9b7dc-1a27-481b-b543-bc6f48ec0d3e",
   "metadata": {},
   "source": [
    "# Exercise_4"
   ]
  },
  {
   "cell_type": "code",
   "execution_count": 7,
   "id": "d57d98a3-9bee-4341-81b9-e7da85635ba5",
   "metadata": {},
   "outputs": [
    {
     "name": "stdout",
     "output_type": "stream",
     "text": [
      "'This': 2\n",
      "'is': 1\n",
      "'a': 1\n",
      "'sample': 1\n",
      "'text.': 1\n",
      "'text': 1\n",
      "'will': 1\n",
      "'be': 1\n",
      "'used': 1\n",
      "'to': 1\n",
      "'demonstrate': 1\n",
      "'the': 1\n",
      "'word': 1\n",
      "'counter.': 1\n"
     ]
    }
   ],
   "source": [
    "from collections import Counter\n",
    "\n",
    "def count_words(input_text):\n",
    "    words = input_text.split()\n",
    "\n",
    "    word_count = Counter(words)\n",
    "\n",
    "    for word, count in word_count.items():\n",
    "        print(f\"'{word}': {count}\")\n",
    "\n",
    "# Example input\n",
    "input_text = \"This is a sample text. This text will be used to demonstrate the word counter.\"\n",
    "\n",
    "count_words(input_text)\n"
   ]
  },
  {
   "cell_type": "markdown",
   "id": "8aa6000a-f86a-4ca2-baaa-9caaa2409f5b",
   "metadata": {},
   "source": [
    "# Exercise_5"
   ]
  },
  {
   "cell_type": "code",
   "execution_count": 8,
   "id": "22ba880b-5eb8-4f59-b1de-be1ad7b3a765",
   "metadata": {},
   "outputs": [
    {
     "name": "stdout",
     "output_type": "stream",
     "text": [
      "'A man, a plan, a canal, Panama!' is a palindrome.\n"
     ]
    }
   ],
   "source": [
    "import re\n",
    "\n",
    "def is_palindrome(s):\n",
    "    cleaned_str = re.sub(r'[^A-Za-z0-9]', '', s).lower()\n",
    "\n",
    "    return cleaned_str == cleaned_str[::-1]\n",
    "\n",
    "# Example usage\n",
    "input_string = \"A man, a plan, a canal, Panama!\"\n",
    "if is_palindrome(input_string):\n",
    "    print(f\"'{input_string}' is a palindrome.\")\n",
    "else:\n",
    "    print(f\"'{input_string}' is not a palindrome.\")\n"
   ]
  }
 ],
 "metadata": {
  "kernelspec": {
   "display_name": "Python 3 (ipykernel)",
   "language": "python",
   "name": "python3"
  },
  "language_info": {
   "codemirror_mode": {
    "name": "ipython",
    "version": 3
   },
   "file_extension": ".py",
   "mimetype": "text/x-python",
   "name": "python",
   "nbconvert_exporter": "python",
   "pygments_lexer": "ipython3",
   "version": "3.12.3"
  }
 },
 "nbformat": 4,
 "nbformat_minor": 5
}
